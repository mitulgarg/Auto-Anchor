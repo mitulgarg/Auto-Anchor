{
 "cells": [
  {
   "cell_type": "code",
   "execution_count": 93,
   "metadata": {},
   "outputs": [],
   "source": [
    "from checkreq import FindImport, FindreqLibraries, changereqfile\n",
    "from utils import *"
   ]
  },
  {
   "cell_type": "code",
   "execution_count": 94,
   "metadata": {},
   "outputs": [],
   "source": [
    "list_of_libs = []\n",
    "\n",
    "for dir in GetFilesInDirectory('src'):\n",
    "    list_of_libs += FindImport(dir)"
   ]
  },
  {
   "cell_type": "code",
   "execution_count": 95,
   "metadata": {},
   "outputs": [
    {
     "data": {
      "text/plain": [
       "['langchain', 'json', 'boto3', 'streamlit']"
      ]
     },
     "execution_count": 95,
     "metadata": {},
     "output_type": "execute_result"
    }
   ],
   "source": [
    "list_of_libs"
   ]
  },
  {
   "cell_type": "code",
   "execution_count": 96,
   "metadata": {},
   "outputs": [
    {
     "name": "stdout",
     "output_type": "stream",
     "text": [
      "['langchain==0.1.16', 'langchain-aws==0.1.2', 'langchain-cohere==0.1.5', 'langchain-community==0.0.34', 'langchain-core==0.1.46', 'langchain-openai==0.0.2.post1', 'langchain-text-splitters==0.0.1', 'json5 @ file:///tmp/build/80754af9/json5_1624432770122/work', 'jsonpatch @ file:///private/var/folders/k1/30mswbxs7r1g6zwn8y4fyt500000gp/T/abs_3ajyoz8zoj/croot/jsonpatch_1714483362270/work', 'jsonpointer==2.1', 'jsonref==1.1.0', 'jsonschema @ file:///Users/builder/cbouss/perseverance-python-buildout/croot/jsonschema_1701803145350/work', 'jsonschema-specifications @ file:///Users/builder/cbouss/perseverance-python-buildout/croot/jsonschema-specifications_1701803122948/work', 'boto3==1.34.84', 'streamlit==1.33.0', 'streamlit-chat==0.1.1', 'streamlit-elements==0.1.0', 'streamlit_folium==0.19.1']\n"
     ]
    }
   ],
   "source": [
    "for dir in GetFilesInDirectory('src'):\n",
    "    changereqfile(\"requirements2.txt\", 'requirements.txt', dir)\n",
    "    print(FindreqLibraries(\"requirements.txt\", dir))"
   ]
  },
  {
   "cell_type": "code",
   "execution_count": 74,
   "metadata": {},
   "outputs": [],
   "source": [
    "import dspy\n",
    "from pydantic import BaseModel, Field\n",
    "from langchain.output_parsers import PydanticOutputParser\n",
    "from langchain_core.prompts import PromptTemplate\n",
    "from typing import Annotated, Any, Dict, Optional, Sequence, TypedDict, List, Tuple"
   ]
  },
  {
   "cell_type": "code",
   "execution_count": 75,
   "metadata": {},
   "outputs": [],
   "source": [
    "#Uses aws credentials from aws cli\n",
    "bedrock = dspy.Bedrock(region_name=\"us-east-1\")\n",
    "\n",
    "model_kwargs =  { \n",
    "        \"max_tokens\": 4000,\n",
    "        \"temperature\": 0.4,\n",
    "        # \"top_k\": 50,\n",
    "        # \"top_p\": 0.9\n",
    "    }\n",
    "\n",
    "lm = dspy.AWSMistral(bedrock, \"mistral.mistral-large-2402-v1:0\", **model_kwargs)"
   ]
  },
  {
   "cell_type": "code",
   "execution_count": 76,
   "metadata": {},
   "outputs": [],
   "source": [
    "dspy.configure(lm=lm)"
   ]
  },
  {
   "cell_type": "code",
   "execution_count": 77,
   "metadata": {},
   "outputs": [],
   "source": [
    "class Input(BaseModel):\n",
    "    python_version: str = Field(description=\"Python version to be used\")\n",
    "    type_of_application: str = Field(description=\"Type of python application\")\n",
    "    work_directory: str = Field(description=\"Working directory of the application\")\n",
    "    entrypoint_filename: str = Field(description=\"File name for starting the application endpoint\")\n",
    "\n",
    "class Output(BaseModel):\n",
    "    dockerfile: str = Field(description=\"The complete dockerfile code\")\n",
    "\n",
    "\n",
    "class CreateDockerFile(dspy.Signature):\n",
    "    \"\"\"I need a Dockerfile for a basic Streamlit app. The app is written in Python.\"\"\"\n",
    "\n",
    "    input: Input = dspy.InputField()\n",
    "    output: Output = dspy.OutputField()\n"
   ]
  },
  {
   "cell_type": "code",
   "execution_count": 78,
   "metadata": {},
   "outputs": [
    {
     "name": "stdout",
     "output_type": "stream",
     "text": [
      "./\n",
      "checkreq.py\n"
     ]
    },
    {
     "data": {
      "text/plain": [
       "{'python_version': '3.11.9',\n",
       " 'type_of_application': 'Streamlit',\n",
       " 'work_directory': './',\n",
       " 'entrypoint_filename': 'checkreq.py'}"
      ]
     },
     "execution_count": 78,
     "metadata": {},
     "output_type": "execute_result"
    }
   ],
   "source": [
    "def detect_application(requirements_file, directory_structure):\n",
    "    # Read the requirements.txt file\n",
    "    with open(requirements_file, 'r') as file:\n",
    "        requirements = file.read()\n",
    "\n",
    "    # Get the Python version\n",
    "    python_version = platform.python_version()\n",
    "\n",
    "    # Determine the type of application based on dependencies\n",
    "    type_of_application = None\n",
    "    if 'streamlit' in requirements:\n",
    "        type_of_application = 'Streamlit'\n",
    "    elif 'langchain' in requirements:\n",
    "        type_of_application = 'Langchain'\n",
    "    elif 'Flask' in requirements:\n",
    "        type_of_application = 'Flask'\n",
    "    \n",
    "    # Look for a common entry point file (app.py or main.py) in the directory structure\n",
    "    entrypoint_filename = 'app.py'  # Default guess\n",
    "    for file in directory_structure:\n",
    "        if file.endswith(('app.py', 'main.py')):\n",
    "            entrypoint_filename = os.path.basename(file)\n",
    "            break\n",
    "    \n",
    "    # # Set the working directory\n",
    "    # work_directory = 'src'  # Default work directory\n",
    "    # for file in directory_structure:\n",
    "    #     if 'src/' in file:\n",
    "    #         work_directory = 'src'\n",
    "    #         break\n",
    "\n",
    "    class Input(BaseModel):\n",
    "        dir_struct: List[str] = Field(description=\"List of all the files in the directory.\")\n",
    "       \n",
    "\n",
    "    class Output(BaseModel):\n",
    "        work_directory: str = Field(description=\"The working directory of the application.\")\n",
    "        entrypoint_filename: str = Field(description=\"The filename that is the entrypoint for the application.\")\n",
    "\n",
    "\n",
    "    class FindWorkingDirectory(dspy.Signature):\n",
    "        f\"\"\"I need the working directory for this {type_of_application} application and also the entrypoint filename for running it so that I can create a Dockerfile.\"\"\"\n",
    "\n",
    "        input: Input = dspy.InputField()\n",
    "        output: Output = dspy.OutputField()\n",
    "\n",
    "    predictor = dspy.TypedPredictor(FindWorkingDirectory)\n",
    "    input = Input(\n",
    "        dir_struct = directory_structure,\n",
    "    )\n",
    "    mapped_parameters = predictor(input=input)\n",
    "    print(mapped_parameters.output.work_directory)\n",
    "    print(mapped_parameters.output.entrypoint_filename)\n",
    "    \n",
    "    final_output = {\n",
    "        'python_version': python_version,\n",
    "        'type_of_application': type_of_application,\n",
    "        'work_directory': mapped_parameters.output.work_directory,\n",
    "        'entrypoint_filename': mapped_parameters.output.entrypoint_filename\n",
    "    }\n",
    "\n",
    "    return final_output\n",
    "\n",
    "\n",
    "output = detect_application('requirements2.txt', GetFilesInDirectory(\".\"))\n",
    "output"
   ]
  },
  {
   "cell_type": "code",
   "execution_count": 79,
   "metadata": {},
   "outputs": [],
   "source": [
    "input = Input(\n",
    "    python_version = output[\"python_version\"],\n",
    "    type_of_application = output[\"type_of_application\"],\n",
    "    work_directory = output[\"work_directory\"],\n",
    "    entrypoint_filename = output[\"entrypoint_filename\"]\n",
    ")"
   ]
  },
  {
   "cell_type": "code",
   "execution_count": 80,
   "metadata": {},
   "outputs": [
    {
     "name": "stdout",
     "output_type": "stream",
     "text": [
      "# Use an official Python runtime as a parent image\n",
      "FROM python:3.11.9-slim\n",
      "\n",
      "# Set the working directory in the container\n",
      "WORKDIR /app\n",
      "\n",
      "# Copy the current directory contents into the container at /app\n",
      "COPY . /app\n",
      "\n",
      "# Install any needed packages specified in requirements.txt\n",
      "RUN pip install --no-cache-dir -r requirements.txt\n",
      "\n",
      "# Make port 8501 available to the world outside this container\n",
      "EXPOSE 8501\n",
      "\n",
      "# Run app.py when the container launches\n",
      "CMD [\"streamlit\", \"run\", \"checkreq.py\", \"--server.port=8501\", \"--server.address=0.0.0.0\"]\n"
     ]
    }
   ],
   "source": [
    "predictor = dspy.TypedPredictor(CreateDockerFile)\n",
    "\n",
    "mapped_parameters = predictor(input=input)\n",
    "print(mapped_parameters.output.dockerfile)"
   ]
  },
  {
   "cell_type": "code",
   "execution_count": 81,
   "metadata": {},
   "outputs": [],
   "source": [
    "with open(\"Dockerfile\", \"w\") as file:\n",
    "    file.write(mapped_parameters.output.dockerfile)"
   ]
  },
  {
   "cell_type": "code",
   "execution_count": null,
   "metadata": {},
   "outputs": [],
   "source": []
  }
 ],
 "metadata": {
  "kernelspec": {
   "display_name": "Python 3",
   "language": "python",
   "name": "python3"
  },
  "language_info": {
   "codemirror_mode": {
    "name": "ipython",
    "version": 3
   },
   "file_extension": ".py",
   "mimetype": "text/x-python",
   "name": "python",
   "nbconvert_exporter": "python",
   "pygments_lexer": "ipython3",
   "version": "3.12.7"
  }
 },
 "nbformat": 4,
 "nbformat_minor": 2
}
