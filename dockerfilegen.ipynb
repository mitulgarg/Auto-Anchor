{
 "cells": [
  {
   "cell_type": "code",
   "execution_count": 43,
   "metadata": {},
   "outputs": [],
   "source": [
    "from checkreq import FindImport, FindreqLibraries, changereqfile\n",
    "from utils import GetFilesInDirectory"
   ]
  },
  {
   "cell_type": "code",
   "execution_count": 44,
   "metadata": {},
   "outputs": [],
   "source": [
    "list_of_libs = []\n",
    "\n",
    "for dir in GetFilesInDirectory('src'):\n",
    "    list_of_libs += FindImport(dir)"
   ]
  },
  {
   "cell_type": "code",
   "execution_count": 45,
   "metadata": {},
   "outputs": [
    {
     "data": {
      "text/plain": [
       "['datetime',\n",
       " 'asyncio',\n",
       " 'base64',\n",
       " 'requests',\n",
       " 'time',\n",
       " 'langchain',\n",
       " 'json',\n",
       " 'boto3',\n",
       " 'streamlit']"
      ]
     },
     "execution_count": 45,
     "metadata": {},
     "output_type": "execute_result"
    }
   ],
   "source": [
    "list_of_libs"
   ]
  },
  {
   "cell_type": "code",
   "execution_count": 46,
   "metadata": {},
   "outputs": [
    {
     "name": "stdout",
     "output_type": "stream",
     "text": [
      "['requests @ file:///private/var/folders/nz/j6p8yfhx1mv_0grj5xl4650h0000gp/T/abs_b143dxenr7/croot/requests_1716902835977/work', 'requests-file @ file:///Users/ktietz/demo/mc3/conda-bld/requests-file_1629455781986/work', 'requests-oauthlib==1.3.1', 'requests-toolbelt @ file:///Users/builder/cbouss/perseverance-python-buildout/croot/requests-toolbelt_1699238632371/work']\n",
      "['langchain==0.1.16', 'langchain-aws==0.1.2', 'langchain-cohere==0.1.5', 'langchain-community==0.0.34', 'langchain-core==0.1.46', 'langchain-openai==0.0.2.post1', 'langchain-text-splitters==0.0.1', 'json5 @ file:///tmp/build/80754af9/json5_1624432770122/work', 'jsonpatch @ file:///private/var/folders/k1/30mswbxs7r1g6zwn8y4fyt500000gp/T/abs_3ajyoz8zoj/croot/jsonpatch_1714483362270/work', 'jsonpointer==2.1', 'jsonref==1.1.0', 'jsonschema @ file:///Users/builder/cbouss/perseverance-python-buildout/croot/jsonschema_1701803145350/work', 'jsonschema-specifications @ file:///Users/builder/cbouss/perseverance-python-buildout/croot/jsonschema-specifications_1701803122948/work', 'boto3==1.34.84', 'streamlit==1.33.0', 'streamlit-chat==0.1.1', 'streamlit-elements==0.1.0', 'streamlit_folium==0.19.1']\n"
     ]
    }
   ],
   "source": [
    "for dir in GetFilesInDirectory('src'):\n",
    "    changereqfile(\"requirements2.txt\", 'requirements.txt', dir)\n",
    "    print(FindreqLibraries(\"requirements.txt\", dir))"
   ]
  },
  {
   "cell_type": "code",
   "execution_count": 6,
   "metadata": {},
   "outputs": [
    {
     "name": "stderr",
     "output_type": "stream",
     "text": [
      "/Users/anilrao/miniforge3/lib/python3.9/site-packages/tqdm/auto.py:21: TqdmWarning: IProgress not found. Please update jupyter and ipywidgets. See https://ipywidgets.readthedocs.io/en/stable/user_install.html\n",
      "  from .autonotebook import tqdm as notebook_tqdm\n"
     ]
    }
   ],
   "source": [
    "import dspy\n",
    "from pydantic import BaseModel, Field\n",
    "from langchain.output_parsers import PydanticOutputParser\n",
    "from langchain_core.prompts import PromptTemplate\n",
    "from typing import Annotated, Any, Dict, Optional, Sequence, TypedDict, List, Tuple"
   ]
  },
  {
   "cell_type": "code",
   "execution_count": 35,
   "metadata": {},
   "outputs": [],
   "source": [
    "#Uses aws credentials from aws cli\n",
    "bedrock = dspy.Bedrock(region_name=\"us-east-1\")\n",
    "\n",
    "model_kwargs =  { \n",
    "        \"max_tokens\": 8000,\n",
    "        \"temperature\": 0.4,\n",
    "        # \"top_k\": 50,\n",
    "        # \"top_p\": 0.9\n",
    "    }\n",
    "\n",
    "lm = dspy.AWSMistral(bedrock, \"mistral.mistral-large-2402-v1:0\", **model_kwargs)"
   ]
  },
  {
   "cell_type": "code",
   "execution_count": 36,
   "metadata": {},
   "outputs": [],
   "source": [
    "dspy.configure(lm=lm)"
   ]
  },
  {
   "cell_type": "code",
   "execution_count": 38,
   "metadata": {},
   "outputs": [],
   "source": [
    "class Input(BaseModel):\n",
    "    python_version: str = Field(description=\"Python version to be used\")\n",
    "    type_of_application: str = Field(description=\"Type of python application\")\n",
    "    work_directory: str = Field(description=\"Working directory of the application\")\n",
    "    entrypoint_filename: str = Field(description=\"File name for starting the application endpoint\")\n",
    "\n",
    "class Output(BaseModel):\n",
    "    dockerfile: str = Field(description=\"The complete dockerfile code\")\n",
    "\n",
    "\n",
    "class CreateDockerFile(dspy.Signature):\n",
    "    \"\"\"I need a Dockerfile for a basic Streamlit app. The app is written in Python.\"\"\"\n",
    "\n",
    "    input: Input = dspy.InputField()\n",
    "    output: Output = dspy.OutputField()\n"
   ]
  },
  {
   "cell_type": "code",
   "execution_count": 39,
   "metadata": {},
   "outputs": [],
   "source": [
    "predictor = dspy.TypedPredictor(CreateDockerFile)\n",
    "input = Input(\n",
    "    python_version = \"3.11\",\n",
    "    type_of_application = 'Streamlit',\n",
    "    work_directory = 'src',\n",
    "    entrypoint_filename = 'app.py'\n",
    ")\n",
    "mapped_parameters = predictor(input=input)"
   ]
  },
  {
   "cell_type": "code",
   "execution_count": 40,
   "metadata": {},
   "outputs": [
    {
     "name": "stdout",
     "output_type": "stream",
     "text": [
      "FROM python:3.11\n",
      "WORKDIR /src\n",
      "COPY . /src\n",
      "RUN pip install --no-cache-dir streamlit\n",
      "CMD [\"streamlit\", \"run\", \"app.py\"]\n"
     ]
    }
   ],
   "source": [
    "print(mapped_parameters.output.dockerfile)"
   ]
  },
  {
   "cell_type": "code",
   "execution_count": 41,
   "metadata": {},
   "outputs": [],
   "source": [
    "with open(\"Dockerfile\", \"w\") as file:\n",
    "    file.write(mapped_parameters.output.dockerfile)"
   ]
  },
  {
   "cell_type": "code",
   "execution_count": null,
   "metadata": {},
   "outputs": [],
   "source": []
  }
 ],
 "metadata": {
  "kernelspec": {
   "display_name": "base",
   "language": "python",
   "name": "python3"
  },
  "language_info": {
   "codemirror_mode": {
    "name": "ipython",
    "version": 3
   },
   "file_extension": ".py",
   "mimetype": "text/x-python",
   "name": "python",
   "nbconvert_exporter": "python",
   "pygments_lexer": "ipython3",
   "version": "3.9.16"
  }
 },
 "nbformat": 4,
 "nbformat_minor": 2
}
