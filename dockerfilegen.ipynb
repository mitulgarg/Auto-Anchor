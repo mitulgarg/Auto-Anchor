{
 "cells": [
  {
   "cell_type": "code",
   "execution_count": 27,
   "metadata": {},
   "outputs": [],
   "source": [
    "from checkreq import FindImport, FindreqLibraries, changereqfile"
   ]
  },
  {
   "cell_type": "code",
   "execution_count": 11,
   "metadata": {},
   "outputs": [],
   "source": [
    "import os\n",
    "\n",
    "def GetFilesInDirectory(directory):\n",
    "    paths = []\n",
    "    for root, dirs, files in os.walk(directory):\n",
    "        for file in files:\n",
    "            file_path = os.path.join(root, file)\n",
    "            paths.append(file_path)\n",
    "    # print(paths)\n",
    "    return paths\n"
   ]
  },
  {
   "cell_type": "code",
   "execution_count": 18,
   "metadata": {},
   "outputs": [],
   "source": [
    "list_of_libs = []\n",
    "\n",
    "for dir in GetFilesInDirectory('src'):\n",
    "    list_of_libs += FindImport(dir)"
   ]
  },
  {
   "cell_type": "code",
   "execution_count": 19,
   "metadata": {},
   "outputs": [
    {
     "data": {
      "text/plain": [
       "['datetime',\n",
       " 'asyncio',\n",
       " 'base64',\n",
       " 'requests',\n",
       " 'time',\n",
       " 'langchain',\n",
       " 'json',\n",
       " 'boto3']"
      ]
     },
     "execution_count": 19,
     "metadata": {},
     "output_type": "execute_result"
    }
   ],
   "source": [
    "list_of_libs"
   ]
  },
  {
   "cell_type": "code",
   "execution_count": 28,
   "metadata": {},
   "outputs": [
    {
     "name": "stdout",
     "output_type": "stream",
     "text": [
      "['requests @ file:///private/var/folders/nz/j6p8yfhx1mv_0grj5xl4650h0000gp/T/abs_b143dxenr7/croot/requests_1716902835977/work', 'requests-file @ file:///Users/ktietz/demo/mc3/conda-bld/requests-file_1629455781986/work', 'requests-oauthlib==1.3.1', 'requests-toolbelt @ file:///Users/builder/cbouss/perseverance-python-buildout/croot/requests-toolbelt_1699238632371/work']\n",
      "['langchain==0.1.16', 'langchain-aws==0.1.2', 'langchain-cohere==0.1.5', 'langchain-community==0.0.34', 'langchain-core==0.1.46', 'langchain-openai==0.0.2.post1', 'langchain-text-splitters==0.0.1', 'json5 @ file:///tmp/build/80754af9/json5_1624432770122/work', 'jsonpatch @ file:///private/var/folders/k1/30mswbxs7r1g6zwn8y4fyt500000gp/T/abs_3ajyoz8zoj/croot/jsonpatch_1714483362270/work', 'jsonpointer==2.1', 'jsonref==1.1.0', 'jsonschema @ file:///Users/builder/cbouss/perseverance-python-buildout/croot/jsonschema_1701803145350/work', 'jsonschema-specifications @ file:///Users/builder/cbouss/perseverance-python-buildout/croot/jsonschema-specifications_1701803122948/work', 'boto3==1.34.84']\n"
     ]
    }
   ],
   "source": [
    "for dir in GetFilesInDirectory('src'):\n",
    "    changereqfile(\"requirements2.txt\", 'requirements.txt', dir)\n",
    "    print(FindreqLibraries(\"requirements.txt\", dir))"
   ]
  },
  {
   "cell_type": "code",
   "execution_count": 1,
   "metadata": {},
   "outputs": [
    {
     "name": "stderr",
     "output_type": "stream",
     "text": [
      "/opt/anaconda3/envs/storm/lib/python3.11/site-packages/tqdm/auto.py:21: TqdmWarning: IProgress not found. Please update jupyter and ipywidgets. See https://ipywidgets.readthedocs.io/en/stable/user_install.html\n",
      "  from .autonotebook import tqdm as notebook_tqdm\n"
     ]
    }
   ],
   "source": [
    "import dspy\n",
    "from pydantic import BaseModel, Field\n",
    "from langchain.output_parsers import PydanticOutputParser\n",
    "from langchain_core.prompts import PromptTemplate\n",
    "from typing import Annotated, Any, Dict, Optional, Sequence, TypedDict, List, Tuple"
   ]
  },
  {
   "cell_type": "code",
   "execution_count": 2,
   "metadata": {},
   "outputs": [],
   "source": [
    "#Uses aws credentials from aws cli\n",
    "bedrock = dspy.Bedrock(region_name=\"us-east-1\")\n",
    "\n",
    "model_kwargs =  { \n",
    "        \"max_tokens\": 4096,\n",
    "        \"temperature\": 0.4,\n",
    "        \"top_k\": 50,\n",
    "        \"top_p\": 0.9\n",
    "    }\n",
    "\n",
    "lm = dspy.AWSAnthropic(bedrock, \"anthropic.claude-3-5-sonnet-20240620-v1:0\", **model_kwargs)"
   ]
  },
  {
   "cell_type": "code",
   "execution_count": 3,
   "metadata": {},
   "outputs": [],
   "source": [
    "dspy.configure(lm=lm)"
   ]
  },
  {
   "cell_type": "code",
   "execution_count": 4,
   "metadata": {},
   "outputs": [],
   "source": [
    "## Get input fields through LLM again"
   ]
  },
  {
   "cell_type": "code",
   "execution_count": 5,
   "metadata": {},
   "outputs": [],
   "source": [
    "class Input(BaseModel):\n",
    "    python_version: str = Field(description=\"Python version to be used\")\n",
    "    type_of_application: str = Field(description=\"Type of python application\")\n",
    "    work_directory: str = Field(description=\"Working directory of the application\")\n",
    "    entrypoint_filename: str = Field(description=\"File name for starting the application endpoint\")\n",
    "\n",
    "class Output(BaseModel):\n",
    "    dockerfile: str = Field(description=\"The complete dockerfile code\")\n",
    "\n",
    "\n",
    "class CreateDockerFile(dspy.Signature):\n",
    "    \"\"\"I need a Dockerfile for a basic Streamlit app. The app is written in Python.\"\"\"\n",
    "\n",
    "    input: Input = dspy.InputField()\n",
    "    output: Output = dspy.OutputField()\n"
   ]
  },
  {
   "cell_type": "code",
   "execution_count": 6,
   "metadata": {},
   "outputs": [],
   "source": [
    "predictor = dspy.TypedPredictor(CreateDockerFile)\n",
    "input = Input(\n",
    "    python_version = \"3.11\",\n",
    "    type_of_application = 'Streamlit',\n",
    "    work_directory = 'src',\n",
    "    entrypoint_filename = 'app.py'\n",
    ")\n",
    "mapped_parameters = predictor(input=input)"
   ]
  },
  {
   "cell_type": "code",
   "execution_count": 12,
   "metadata": {},
   "outputs": [
    {
     "name": "stdout",
     "output_type": "stream",
     "text": [
      "# Use an official Python runtime as a parent image\n",
      "FROM python:3.11-slim\n",
      "\n",
      "# Set the working directory in the container\n",
      "WORKDIR /app\n",
      "\n",
      "# Copy the current directory contents into the container at /app\n",
      "COPY ./src /app\n",
      "\n",
      "# Install any needed packages specified in requirements.txt\n",
      "COPY requirements.txt /app/\n",
      "RUN pip install --no-cache-dir -r requirements.txt\n",
      "\n",
      "# Make port 8501 available to the world outside this container\n",
      "EXPOSE 8501\n",
      "\n",
      "# Run app.py when the container launches\n",
      "CMD [\"streamlit\", \"run\", \"app.py\", \"--server.port=8501\", \"--server.address=0.0.0.0\"]\n"
     ]
    }
   ],
   "source": [
    "print(mapped_parameters.output.dockerfile)"
   ]
  },
  {
   "cell_type": "code",
   "execution_count": 14,
   "metadata": {},
   "outputs": [],
   "source": [
    "with open(\"Dockerfile\", \"w\") as file:\n",
    "    file.write(mapped_parameters.output.dockerfile)"
   ]
  },
  {
   "cell_type": "code",
   "execution_count": null,
   "metadata": {},
   "outputs": [],
   "source": []
  }
 ],
 "metadata": {
  "kernelspec": {
   "display_name": "base",
   "language": "python",
   "name": "python3"
  },
  "language_info": {
   "codemirror_mode": {
    "name": "ipython",
    "version": 3
   },
   "file_extension": ".py",
   "mimetype": "text/x-python",
   "name": "python",
   "nbconvert_exporter": "python",
   "pygments_lexer": "ipython3",
   "version": "3.11.9"
  }
 },
 "nbformat": 4,
 "nbformat_minor": 2
}
