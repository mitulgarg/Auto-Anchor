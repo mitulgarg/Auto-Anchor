{
 "cells": [
  {
   "cell_type": "code",
   "execution_count": 5,
   "metadata": {},
   "outputs": [
    {
     "name": "stdout",
     "output_type": "stream",
     "text": [
      "['./checkreq.py', './requirements.txt', './dockerfilegen.ipynb', './Dockerfile', './requirements2.txt', './test_pythondir.ipynb', './utils.py', './sample.py', './dockerfilegen copy.ipynb', './__pycache__/utils.cpython-39.pyc', './__pycache__/checkreq.cpython-39.pyc', './__pycache__/checkreq.cpython-36.pyc', './__pycache__/checkreq.cpython-312.pyc', './__pycache__/checkreq.cpython-311.pyc', './__pycache__/checkreq.cpython-310.pyc', './.git/ORIG_HEAD', './.git/config', './.git/HEAD', './.git/description', './.git/index', './.git/packed-refs', './.git/FETCH_HEAD', './.git/objects/pack/pack-7f5fdf36889833a59560505a585bdbfd8a032744.pack', './.git/objects/pack/pack-7f5fdf36889833a59560505a585bdbfd8a032744.idx', './.git/objects/07/35a283ad04c4b3555346265806ae169da9e2c1', './.git/info/exclude', './.git/logs/HEAD', './.git/logs/refs/heads/dev_ajay', './.git/logs/refs/heads/main', './.git/logs/refs/remotes/origin/dev_ajay', './.git/logs/refs/remotes/origin/HEAD', './.git/logs/refs/remotes/origin/main', './.git/hooks/commit-msg.sample', './.git/hooks/pre-rebase.sample', './.git/hooks/pre-commit.sample', './.git/hooks/applypatch-msg.sample', './.git/hooks/fsmonitor-watchman.sample', './.git/hooks/pre-receive.sample', './.git/hooks/prepare-commit-msg.sample', './.git/hooks/post-update.sample', './.git/hooks/pre-merge-commit.sample', './.git/hooks/pre-applypatch.sample', './.git/hooks/pre-push.sample', './.git/hooks/update.sample', './.git/hooks/push-to-checkout.sample', './.git/refs/heads/dev_ajay', './.git/refs/heads/main', './.git/refs/remotes/origin/dev_ajay', './.git/refs/remotes/origin/HEAD', './.git/refs/remotes/origin/main', './src/utils.py', './src/app.py']\n",
      "['checkreq.py', 'requirements.txt', 'dockerfilegen.ipynb', 'Dockerfile', 'requirements2.txt', 'test_pythondir.ipynb', 'utils.py', 'sample.py', 'dockerfilegen copy.ipynb', 'utils.cpython-39.pyc', 'checkreq.cpython-39.pyc', 'checkreq.cpython-36.pyc', 'checkreq.cpython-312.pyc', 'checkreq.cpython-311.pyc', 'checkreq.cpython-310.pyc', 'ORIG_HEAD', 'config', 'HEAD', 'description', 'index', 'packed-refs', 'FETCH_HEAD', 'pack-7f5fdf36889833a59560505a585bdbfd8a032744.pack', 'pack-7f5fdf36889833a59560505a585bdbfd8a032744.idx', '35a283ad04c4b3555346265806ae169da9e2c1', 'exclude', 'HEAD', 'dev_ajay', 'main', 'dev_ajay', 'HEAD', 'main', 'commit-msg.sample', 'pre-rebase.sample', 'pre-commit.sample', 'applypatch-msg.sample', 'fsmonitor-watchman.sample', 'pre-receive.sample', 'prepare-commit-msg.sample', 'post-update.sample', 'pre-merge-commit.sample', 'pre-applypatch.sample', 'pre-push.sample', 'update.sample', 'push-to-checkout.sample', 'dev_ajay', 'main', 'dev_ajay', 'HEAD', 'main', 'utils.py', 'app.py']\n",
      "Python application detected: Django\n"
     ]
    }
   ],
   "source": [
    "import os\n",
    "\n",
    "# Existing function to get all files in a directory\n",
    "def GetFilesInDirectory(directory):\n",
    "    paths = []\n",
    "    for root, dirs, files in os.walk(directory):\n",
    "        for file in files:\n",
    "            file_path = os.path.join(root, file)\n",
    "            paths.append(file_path)\n",
    "    return paths\n",
    "\n",
    "# # Define patterns for different Python application types\n",
    "# PATTERNS = {\n",
    "#     'Django': ['manage.py', 'requirements.txt', 'urls.py', 'settings.py', 'wsgi.py'],\n",
    "#     'Flask': ['app.py', 'requirements.txt', 'static/', 'templates/', 'flask'],\n",
    "#     'FastAPI': ['main.py', 'requirements.txt', 'fastapi', 'pydantic'],\n",
    "#     'Data Science': ['notebooks/', 'requirements.txt', 'pandas', 'numpy', 'matplotlib'],\n",
    "#     'Machine Learning': ['train.py', 'requirements.txt', 'tensorflow', 'scikit-learn', 'pytorch'],\n",
    "#     'Automation': ['automation.py', 'requirements.txt', 'os', 'requests'],\n",
    "#     'Web Scraping': ['scraper.py', 'requirements.txt', 'BeautifulSoup', 'Scrapy'],\n",
    "#     'Tkinter GUI': ['main.py', 'requirements.txt', 'tkinter'],\n",
    "#     'IoT (Raspberry Pi)': ['main.py', 'requirements.txt', 'RPi.GPIO'],\n",
    "#     'AWS DevOps': ['aws.py', 'requirements.txt', 'boto3'],\n",
    "#     'Unit Testing': ['test_main.py', 'requirements.txt', 'pytest', 'unittest'],\n",
    "#     'Streamlit' : ['app.py', 'requirements.txt', '']\n",
    "# }\n",
    "\n",
    "# # Function to check if the directory contains a Python application\n",
    "# def CheckPythonApplication(directory):\n",
    "#     files_in_directory = GetFilesInDirectory(directory)\n",
    "#     print(files_in_directory)\n",
    "    \n",
    "#     # Normalize the file paths for easier comparison\n",
    "#     normalized_files = [os.path.basename(file) for file in files_in_directory]\n",
    "#     print(normalized_files)\n",
    "    \n",
    "#     # Iterate over each pattern and check for matches\n",
    "#     for app_type, indicators in PATTERNS.items():\n",
    "#         if all(any(indicator in file for file in normalized_files) for indicator in indicators):\n",
    "#             return f'Python application detected: {app_type}'\n",
    "    \n",
    "#     return 'No Python application detected.'\n",
    "\n",
    "# # Example usage\n",
    "# directory_path = '.'  # Replace with the directory path you want to check\n",
    "# result = CheckPythonApplication(directory_path)\n",
    "# print(result)\n"
   ]
  },
  {
   "cell_type": "code",
   "execution_count": 1,
   "metadata": {},
   "outputs": [
    {
     "name": "stderr",
     "output_type": "stream",
     "text": [
      "/opt/anaconda3/envs/storm/lib/python3.11/site-packages/tqdm/auto.py:21: TqdmWarning: IProgress not found. Please update jupyter and ipywidgets. See https://ipywidgets.readthedocs.io/en/stable/user_install.html\n",
      "  from .autonotebook import tqdm as notebook_tqdm\n"
     ]
    }
   ],
   "source": [
    "import dspy\n",
    "from pydantic import BaseModel, Field\n",
    "from typing import Annotated, Any, Dict, Optional, Sequence, TypedDict, List, Tuple\n",
    "from utils import GetFilesInDirectory"
   ]
  },
  {
   "cell_type": "code",
   "execution_count": 2,
   "metadata": {},
   "outputs": [],
   "source": [
    "bedrock = dspy.Bedrock(region_name=\"us-east-1\")\n",
    "\n",
    "model_kwargs =  { \n",
    "        \"max_tokens\": 10000,\n",
    "        \"temperature\": 0.7,\n",
    "        # \"top_k\": 50,\n",
    "        # \"top_p\": 0.9\n",
    "    }\n",
    "\n",
    "lm = dspy.AWSAnthropic(bedrock, \"anthropic.claude-3-5-sonnet-20240620-v1:0\", **model_kwargs)\n",
    "\n",
    "dspy.configure(lm=lm)"
   ]
  },
  {
   "cell_type": "code",
   "execution_count": 3,
   "metadata": {},
   "outputs": [
    {
     "name": "stdout",
     "output_type": "stream",
     "text": [
      "./src\n",
      "Input(\n",
      "    python_version = \"3.11.9\",\n",
      "    type_of_application = 'Streamlit',\n",
      "    work_directory = './src',\n",
      "    entrypoint_filename = 'app.py'\n",
      ")\n"
     ]
    }
   ],
   "source": [
    "import platform\n",
    "import os\n",
    "\n",
    "def detect_application(requirements_file, directory_structure):\n",
    "    # Read the requirements.txt file\n",
    "    with open(requirements_file, 'r') as file:\n",
    "        requirements = file.read()\n",
    "\n",
    "    # Get the Python version\n",
    "    python_version = platform.python_version()\n",
    "\n",
    "    # Determine the type of application based on dependencies\n",
    "    type_of_application = None\n",
    "    if 'streamlit' in requirements:\n",
    "        type_of_application = 'Streamlit'\n",
    "    elif 'langchain' in requirements:\n",
    "        type_of_application = 'Langchain'\n",
    "    \n",
    "    # Look for a common entry point file (app.py or main.py) in the directory structure\n",
    "    entrypoint_filename = 'app.py'  # Default guess\n",
    "    for file in directory_structure:\n",
    "        if file.endswith(('app.py', 'main.py')):\n",
    "            entrypoint_filename = os.path.basename(file)\n",
    "            break\n",
    "    \n",
    "    # # Set the working directory\n",
    "    # work_directory = 'src'  # Default work directory\n",
    "    # for file in directory_structure:\n",
    "    #     if 'src/' in file:\n",
    "    #         work_directory = 'src'\n",
    "    #         break\n",
    "\n",
    "    class Input(BaseModel):\n",
    "        dir_struct: List[str] = Field(description=\"List of all the files in the directory.\")\n",
    "       \n",
    "\n",
    "    class Output(BaseModel):\n",
    "        work_directory: str = Field(description=\"The working directory of the application\")\n",
    "\n",
    "\n",
    "    class FindWorkingDirectory(dspy.Signature):\n",
    "        f\"\"\"I need the working directory for this {type_of_application} application so that I can create a Dockerfile.\"\"\"\n",
    "\n",
    "        input: Input = dspy.InputField()\n",
    "        output: Output = dspy.OutputField()\n",
    "\n",
    "    predictor = dspy.TypedPredictor(FindWorkingDirectory)\n",
    "    input = Input(\n",
    "        dir_struct = directory_structure,\n",
    "    )\n",
    "    mapped_parameters = predictor(input=input)\n",
    "    print(mapped_parameters.output.work_directory)\n",
    "    \n",
    "\n",
    "\n",
    "    # Output the final format\n",
    "    return f'''Input(\n",
    "    python_version = \"{python_version}\",\n",
    "    type_of_application = '{type_of_application}',\n",
    "    work_directory = '{mapped_parameters.output.work_directory}',\n",
    "    entrypoint_filename = '{entrypoint_filename}'\n",
    ")'''\n",
    "\n",
    "\n",
    "output = detect_application('requirements2.txt', GetFilesInDirectory(\".\"))\n",
    "print(output)\n"
   ]
  },
  {
   "cell_type": "code",
   "execution_count": null,
   "metadata": {},
   "outputs": [],
   "source": []
  },
  {
   "cell_type": "code",
   "execution_count": null,
   "metadata": {},
   "outputs": [],
   "source": []
  }
 ],
 "metadata": {
  "kernelspec": {
   "display_name": "storm",
   "language": "python",
   "name": "python3"
  },
  "language_info": {
   "codemirror_mode": {
    "name": "ipython",
    "version": 3
   },
   "file_extension": ".py",
   "mimetype": "text/x-python",
   "name": "python",
   "nbconvert_exporter": "python",
   "pygments_lexer": "ipython3",
   "version": "3.11.9"
  }
 },
 "nbformat": 4,
 "nbformat_minor": 2
}
