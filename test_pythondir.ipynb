{
 "cells": [
  {
   "cell_type": "code",
   "execution_count": 5,
   "metadata": {},
   "outputs": [
    {
     "name": "stdout",
     "output_type": "stream",
     "text": [
      "['./checkreq.py', './requirements.txt', './dockerfilegen.ipynb', './Dockerfile', './requirements2.txt', './test_pythondir.ipynb', './utils.py', './sample.py', './dockerfilegen copy.ipynb', './__pycache__/utils.cpython-39.pyc', './__pycache__/checkreq.cpython-39.pyc', './__pycache__/checkreq.cpython-36.pyc', './__pycache__/checkreq.cpython-312.pyc', './__pycache__/checkreq.cpython-311.pyc', './__pycache__/checkreq.cpython-310.pyc', './.git/ORIG_HEAD', './.git/config', './.git/HEAD', './.git/description', './.git/index', './.git/packed-refs', './.git/FETCH_HEAD', './.git/objects/pack/pack-7f5fdf36889833a59560505a585bdbfd8a032744.pack', './.git/objects/pack/pack-7f5fdf36889833a59560505a585bdbfd8a032744.idx', './.git/objects/07/35a283ad04c4b3555346265806ae169da9e2c1', './.git/info/exclude', './.git/logs/HEAD', './.git/logs/refs/heads/dev_ajay', './.git/logs/refs/heads/main', './.git/logs/refs/remotes/origin/dev_ajay', './.git/logs/refs/remotes/origin/HEAD', './.git/logs/refs/remotes/origin/main', './.git/hooks/commit-msg.sample', './.git/hooks/pre-rebase.sample', './.git/hooks/pre-commit.sample', './.git/hooks/applypatch-msg.sample', './.git/hooks/fsmonitor-watchman.sample', './.git/hooks/pre-receive.sample', './.git/hooks/prepare-commit-msg.sample', './.git/hooks/post-update.sample', './.git/hooks/pre-merge-commit.sample', './.git/hooks/pre-applypatch.sample', './.git/hooks/pre-push.sample', './.git/hooks/update.sample', './.git/hooks/push-to-checkout.sample', './.git/refs/heads/dev_ajay', './.git/refs/heads/main', './.git/refs/remotes/origin/dev_ajay', './.git/refs/remotes/origin/HEAD', './.git/refs/remotes/origin/main', './src/utils.py', './src/app.py']\n",
      "['checkreq.py', 'requirements.txt', 'dockerfilegen.ipynb', 'Dockerfile', 'requirements2.txt', 'test_pythondir.ipynb', 'utils.py', 'sample.py', 'dockerfilegen copy.ipynb', 'utils.cpython-39.pyc', 'checkreq.cpython-39.pyc', 'checkreq.cpython-36.pyc', 'checkreq.cpython-312.pyc', 'checkreq.cpython-311.pyc', 'checkreq.cpython-310.pyc', 'ORIG_HEAD', 'config', 'HEAD', 'description', 'index', 'packed-refs', 'FETCH_HEAD', 'pack-7f5fdf36889833a59560505a585bdbfd8a032744.pack', 'pack-7f5fdf36889833a59560505a585bdbfd8a032744.idx', '35a283ad04c4b3555346265806ae169da9e2c1', 'exclude', 'HEAD', 'dev_ajay', 'main', 'dev_ajay', 'HEAD', 'main', 'commit-msg.sample', 'pre-rebase.sample', 'pre-commit.sample', 'applypatch-msg.sample', 'fsmonitor-watchman.sample', 'pre-receive.sample', 'prepare-commit-msg.sample', 'post-update.sample', 'pre-merge-commit.sample', 'pre-applypatch.sample', 'pre-push.sample', 'update.sample', 'push-to-checkout.sample', 'dev_ajay', 'main', 'dev_ajay', 'HEAD', 'main', 'utils.py', 'app.py']\n",
      "Python application detected: Django\n"
     ]
    }
   ],
   "source": [
    "# import os\n",
    "\n",
    "# # Existing function to get all files in a directory\n",
    "# def GetFilesInDirectory(directory):\n",
    "#     paths = []\n",
    "#     for root, dirs, files in os.walk(directory):\n",
    "#         for file in files:\n",
    "#             file_path = os.path.join(root, file)\n",
    "#             paths.append(file_path)\n",
    "#     return paths\n",
    "\n",
    "# # Define patterns for different Python application types\n",
    "# PATTERNS = {\n",
    "#     'Django': ['manage.py', 'requirements.txt', 'urls.py', 'settings.py', 'wsgi.py'],\n",
    "#     'Flask': ['app.py', 'requirements.txt', 'static/', 'templates/', 'flask'],\n",
    "#     'FastAPI': ['main.py', 'requirements.txt', 'fastapi', 'pydantic'],\n",
    "#     'Data Science': ['notebooks/', 'requirements.txt', 'pandas', 'numpy', 'matplotlib'],\n",
    "#     'Machine Learning': ['train.py', 'requirements.txt', 'tensorflow', 'scikit-learn', 'pytorch'],\n",
    "#     'Automation': ['automation.py', 'requirements.txt', 'os', 'requests'],\n",
    "#     'Web Scraping': ['scraper.py', 'requirements.txt', 'BeautifulSoup', 'Scrapy'],\n",
    "#     'Tkinter GUI': ['main.py', 'requirements.txt', 'tkinter'],\n",
    "#     'IoT (Raspberry Pi)': ['main.py', 'requirements.txt', 'RPi.GPIO'],\n",
    "#     'AWS DevOps': ['aws.py', 'requirements.txt', 'boto3'],\n",
    "#     'Unit Testing': ['test_main.py', 'requirements.txt', 'pytest', 'unittest'],\n",
    "#     'Streamlit' : ['app.py', 'requirements.txt', '']\n",
    "# }\n",
    "\n",
    "# # Function to check if the directory contains a Python application\n",
    "# def CheckPythonApplication(directory):\n",
    "#     files_in_directory = GetFilesInDirectory(directory)\n",
    "#     print(files_in_directory)\n",
    "    \n",
    "#     # Normalize the file paths for easier comparison\n",
    "#     normalized_files = [os.path.basename(file) for file in files_in_directory]\n",
    "#     print(normalized_files)\n",
    "    \n",
    "#     # Iterate over each pattern and check for matches\n",
    "#     for app_type, indicators in PATTERNS.items():\n",
    "#         if all(any(indicator in file for file in normalized_files) for indicator in indicators):\n",
    "#             return f'Python application detected: {app_type}'\n",
    "    \n",
    "#     return 'No Python application detected.'\n",
    "\n",
    "# # Example usage\n",
    "# directory_path = '.'  # Replace with the directory path you want to check\n",
    "# result = CheckPythonApplication(directory_path)\n",
    "# print(result)\n"
   ]
  },
  {
   "cell_type": "code",
   "execution_count": 9,
   "metadata": {},
   "outputs": [],
   "source": [
    "import dspy\n",
    "from pydantic import BaseModel, Field\n",
    "from langchain.output_parsers import PydanticOutputParser\n",
    "from langchain_core.prompts import PromptTemplate\n",
    "from typing import Annotated, Any, Dict, Optional, Sequence, TypedDict, List, Tuple\n",
    "from utils import GetFilesInDirectory"
   ]
  },
  {
   "cell_type": "code",
   "execution_count": 18,
   "metadata": {},
   "outputs": [],
   "source": [
    "bedrock = dspy.Bedrock(region_name=\"us-east-1\")\n",
    "\n",
    "model_kwargs =  { \n",
    "        \"max_tokens\": 10000,\n",
    "        \"temperature\": 0.7,\n",
    "        # \"top_k\": 50,\n",
    "        # \"top_p\": 0.9\n",
    "    }\n",
    "\n",
    "lm = dspy.AWSMistral(bedrock, \"mistral.mistral-large-2402-v1:0\", **model_kwargs)\n",
    "\n",
    "dspy.configure(lm=lm)"
   ]
  },
  {
   "cell_type": "code",
   "execution_count": 19,
   "metadata": {},
   "outputs": [
    {
     "ename": "ValueError",
     "evalue": "('Too many retries trying to get the correct output format. Try simplifying the requirements.', {'output': \"JSONDecodeError('Expected object or value')\"})",
     "output_type": "error",
     "traceback": [
      "\u001b[0;31m---------------------------------------------------------------------------\u001b[0m",
      "\u001b[0;31mValueError\u001b[0m                                Traceback (most recent call last)",
      "Cell \u001b[0;32mIn[19], line 65\u001b[0m\n\u001b[1;32m     56\u001b[0m     \u001b[38;5;66;03m# Output the final format\u001b[39;00m\n\u001b[1;32m     57\u001b[0m     \u001b[38;5;28;01mreturn\u001b[39;00m \u001b[38;5;124mf\u001b[39m\u001b[38;5;124m'''\u001b[39m\u001b[38;5;124mInput(\u001b[39m\n\u001b[1;32m     58\u001b[0m \u001b[38;5;124m    python_version = \u001b[39m\u001b[38;5;124m\"\u001b[39m\u001b[38;5;132;01m{\u001b[39;00mpython_version\u001b[38;5;132;01m}\u001b[39;00m\u001b[38;5;124m\"\u001b[39m\u001b[38;5;124m,\u001b[39m\n\u001b[1;32m     59\u001b[0m \u001b[38;5;124m    type_of_application = \u001b[39m\u001b[38;5;124m'\u001b[39m\u001b[38;5;132;01m{\u001b[39;00mtype_of_application\u001b[38;5;132;01m}\u001b[39;00m\u001b[38;5;124m'\u001b[39m\u001b[38;5;124m,\u001b[39m\n\u001b[1;32m     60\u001b[0m \u001b[38;5;124m    work_directory = \u001b[39m\u001b[38;5;124m'\u001b[39m\u001b[38;5;132;01m{\u001b[39;00mmapped_parameters\u001b[38;5;241m.\u001b[39moutput\u001b[38;5;241m.\u001b[39mwork_directory\u001b[38;5;132;01m}\u001b[39;00m\u001b[38;5;124m'\u001b[39m\u001b[38;5;124m,\u001b[39m\n\u001b[1;32m     61\u001b[0m \u001b[38;5;124m    entrypoint_filename = \u001b[39m\u001b[38;5;124m'\u001b[39m\u001b[38;5;132;01m{\u001b[39;00mentrypoint_filename\u001b[38;5;132;01m}\u001b[39;00m\u001b[38;5;124m'\u001b[39m\n\u001b[1;32m     62\u001b[0m \u001b[38;5;124m)\u001b[39m\u001b[38;5;124m'''\u001b[39m\n\u001b[0;32m---> 65\u001b[0m output \u001b[38;5;241m=\u001b[39m \u001b[43mdetect_application\u001b[49m\u001b[43m(\u001b[49m\u001b[38;5;124;43m'\u001b[39;49m\u001b[38;5;124;43mrequirements2.txt\u001b[39;49m\u001b[38;5;124;43m'\u001b[39;49m\u001b[43m,\u001b[49m\u001b[43m \u001b[49m\u001b[43mGetFilesInDirectory\u001b[49m\u001b[43m(\u001b[49m\u001b[38;5;124;43m\"\u001b[39;49m\u001b[38;5;124;43m.\u001b[39;49m\u001b[38;5;124;43m\"\u001b[39;49m\u001b[43m)\u001b[49m\u001b[43m)\u001b[49m\n\u001b[1;32m     66\u001b[0m \u001b[38;5;28mprint\u001b[39m(output)\n",
      "Cell \u001b[0;32mIn[19], line 51\u001b[0m, in \u001b[0;36mdetect_application\u001b[0;34m(requirements_file, directory_structure)\u001b[0m\n\u001b[1;32m     47\u001b[0m predictor \u001b[38;5;241m=\u001b[39m dspy\u001b[38;5;241m.\u001b[39mTypedPredictor(FindWorkingDirectory)\n\u001b[1;32m     48\u001b[0m \u001b[38;5;28minput\u001b[39m \u001b[38;5;241m=\u001b[39m Input(\n\u001b[1;32m     49\u001b[0m     dir_struct \u001b[38;5;241m=\u001b[39m directory_structure,\n\u001b[1;32m     50\u001b[0m )\n\u001b[0;32m---> 51\u001b[0m mapped_parameters \u001b[38;5;241m=\u001b[39m \u001b[43mpredictor\u001b[49m\u001b[43m(\u001b[49m\u001b[38;5;28;43minput\u001b[39;49m\u001b[38;5;241;43m=\u001b[39;49m\u001b[38;5;28;43minput\u001b[39;49m\u001b[43m)\u001b[49m\n\u001b[1;32m     52\u001b[0m \u001b[38;5;28mprint\u001b[39m(mapped_parameters\u001b[38;5;241m.\u001b[39moutput\u001b[38;5;241m.\u001b[39mwork_directory)\n\u001b[1;32m     56\u001b[0m \u001b[38;5;66;03m# Output the final format\u001b[39;00m\n",
      "File \u001b[0;32m~/miniforge3/lib/python3.9/site-packages/dspy/primitives/program.py:26\u001b[0m, in \u001b[0;36mModule.__call__\u001b[0;34m(self, *args, **kwargs)\u001b[0m\n\u001b[1;32m     25\u001b[0m \u001b[38;5;28;01mdef\u001b[39;00m \u001b[38;5;21m__call__\u001b[39m(\u001b[38;5;28mself\u001b[39m, \u001b[38;5;241m*\u001b[39margs, \u001b[38;5;241m*\u001b[39m\u001b[38;5;241m*\u001b[39mkwargs):\n\u001b[0;32m---> 26\u001b[0m     \u001b[38;5;28;01mreturn\u001b[39;00m \u001b[38;5;28;43mself\u001b[39;49m\u001b[38;5;241;43m.\u001b[39;49m\u001b[43mforward\u001b[49m\u001b[43m(\u001b[49m\u001b[38;5;241;43m*\u001b[39;49m\u001b[43margs\u001b[49m\u001b[43m,\u001b[49m\u001b[43m \u001b[49m\u001b[38;5;241;43m*\u001b[39;49m\u001b[38;5;241;43m*\u001b[39;49m\u001b[43mkwargs\u001b[49m\u001b[43m)\u001b[49m\n",
      "File \u001b[0;32m~/miniforge3/lib/python3.9/site-packages/dspy/functional/functional.py:362\u001b[0m, in \u001b[0;36mTypedPredictor.forward\u001b[0;34m(self, **kwargs)\u001b[0m\n\u001b[1;32m    357\u001b[0m     \u001b[38;5;28;01melse\u001b[39;00m:\n\u001b[1;32m    358\u001b[0m         \u001b[38;5;66;03m# If there are no errors, we return the parsed results\u001b[39;00m\n\u001b[1;32m    359\u001b[0m         \u001b[38;5;28;01mreturn\u001b[39;00m Prediction\u001b[38;5;241m.\u001b[39mfrom_completions(\n\u001b[1;32m    360\u001b[0m             {key: [r[key] \u001b[38;5;28;01mfor\u001b[39;00m r \u001b[38;5;129;01min\u001b[39;00m parsed_results] \u001b[38;5;28;01mfor\u001b[39;00m key \u001b[38;5;129;01min\u001b[39;00m signature\u001b[38;5;241m.\u001b[39moutput_fields},\n\u001b[1;32m    361\u001b[0m         )\n\u001b[0;32m--> 362\u001b[0m \u001b[38;5;28;01mraise\u001b[39;00m \u001b[38;5;167;01mValueError\u001b[39;00m(\n\u001b[1;32m    363\u001b[0m     \u001b[38;5;124m\"\u001b[39m\u001b[38;5;124mToo many retries trying to get the correct output format. \u001b[39m\u001b[38;5;124m\"\u001b[39m \u001b[38;5;241m+\u001b[39m \u001b[38;5;124m\"\u001b[39m\u001b[38;5;124mTry simplifying the requirements.\u001b[39m\u001b[38;5;124m\"\u001b[39m,\n\u001b[1;32m    364\u001b[0m     errors,\n\u001b[1;32m    365\u001b[0m )\n",
      "\u001b[0;31mValueError\u001b[0m: ('Too many retries trying to get the correct output format. Try simplifying the requirements.', {'output': \"JSONDecodeError('Expected object or value')\"})"
     ]
    }
   ],
   "source": [
    "import platform\n",
    "import os\n",
    "\n",
    "def detect_application(requirements_file, directory_structure):\n",
    "    # Read the requirements.txt file\n",
    "    with open(requirements_file, 'r') as file:\n",
    "        requirements = file.read()\n",
    "\n",
    "    # Get the Python version\n",
    "    python_version = platform.python_version()\n",
    "\n",
    "    # Determine the type of application based on dependencies\n",
    "    type_of_application = None\n",
    "    if 'streamlit' in requirements:\n",
    "        type_of_application = 'Streamlit'\n",
    "    elif 'langchain' in requirements:\n",
    "        type_of_application = 'Langchain'\n",
    "    \n",
    "    # Look for a common entry point file (app.py or main.py) in the directory structure\n",
    "    entrypoint_filename = 'app.py'  # Default guess\n",
    "    for file in directory_structure:\n",
    "        if file.endswith(('app.py', 'main.py')):\n",
    "            entrypoint_filename = os.path.basename(file)\n",
    "            break\n",
    "    \n",
    "    # # Set the working directory\n",
    "    # work_directory = 'src'  # Default work directory\n",
    "    # for file in directory_structure:\n",
    "    #     if 'src/' in file:\n",
    "    #         work_directory = 'src'\n",
    "    #         break\n",
    "\n",
    "    class Input(BaseModel):\n",
    "        dir_struct: List[str] = Field(description=\"List of all the files in the directory.\")\n",
    "       \n",
    "\n",
    "    class Output(BaseModel):\n",
    "        work_directory: str = Field(description=\"The working directory of the application\")\n",
    "\n",
    "\n",
    "    class FindWorkingDirectory(dspy.Signature):\n",
    "        f\"\"\"I need the working directory for this {type_of_application} application so that I can create a Dockerfile.\"\"\"\n",
    "\n",
    "        input: Input = dspy.InputField()\n",
    "        output: Output = dspy.OutputField()\n",
    "\n",
    "    predictor = dspy.TypedPredictor(FindWorkingDirectory)\n",
    "    input = Input(\n",
    "        dir_struct = directory_structure,\n",
    "    )\n",
    "    mapped_parameters = predictor(input=input)\n",
    "    print(mapped_parameters.output.work_directory)\n",
    "    \n",
    "\n",
    "\n",
    "    # Output the final format\n",
    "    return f'''Input(\n",
    "    python_version = \"{python_version}\",\n",
    "    type_of_application = '{type_of_application}',\n",
    "    work_directory = '{mapped_parameters.output.work_directory}',\n",
    "    entrypoint_filename = '{entrypoint_filename}'\n",
    ")'''\n",
    "\n",
    "\n",
    "output = detect_application('requirements2.txt', GetFilesInDirectory(\".\"))\n",
    "print(output)\n"
   ]
  },
  {
   "cell_type": "code",
   "execution_count": null,
   "metadata": {},
   "outputs": [],
   "source": []
  },
  {
   "cell_type": "code",
   "execution_count": null,
   "metadata": {},
   "outputs": [],
   "source": []
  }
 ],
 "metadata": {
  "kernelspec": {
   "display_name": "base",
   "language": "python",
   "name": "python3"
  },
  "language_info": {
   "codemirror_mode": {
    "name": "ipython",
    "version": 3
   },
   "file_extension": ".py",
   "mimetype": "text/x-python",
   "name": "python",
   "nbconvert_exporter": "python",
   "pygments_lexer": "ipython3",
   "version": "3.9.16"
  }
 },
 "nbformat": 4,
 "nbformat_minor": 2
}
